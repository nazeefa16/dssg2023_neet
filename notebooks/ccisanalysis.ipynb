{
 "cells": [
  {
   "cell_type": "code",
   "execution_count": null,
   "metadata": {},
   "outputs": [],
   "source": [
    "import pandas as pd\n",
    "import matplotlib as plt\n",
    "import numpy as np\n",
    "!pip install pandas-profiling\n",
    "from pandas_profiling import ProfileReport"
   ]
  },
  {
   "cell_type": "code",
   "execution_count": null,
   "metadata": {},
   "outputs": [],
   "source": [
    "df=pd.read_csv('ccis_original_mar16.csv')\n",
    "df.head()"
   ]
  },
  {
   "cell_type": "code",
   "execution_count": null,
   "metadata": {},
   "outputs": [],
   "source": [
    "#Check missing values for the activity code\n",
    "def check_missing_values(df, column_name):\n",
    "    if df[column_name].isnull().any():\n",
    "        raise ValueError(\"Missing values found in the '{}' column.\".format(column_name))\n",
    "    else:\n",
    "        print(\"No missing values in the '{}' column.\".format(column_name))\n",
    "\n",
    "# Example usage\n",
    "# Assuming you have a DataFrame named 'df' with a column named 'ActivityCode'\n",
    "check_missing_values(df, 'ActivityCode')\n"
   ]
  },
  {
   "cell_type": "code",
   "execution_count": null,
   "metadata": {},
   "outputs": [],
   "source": [
    "#Check if unique pupil number is unique\n",
    "def check_unique_entries(df, column_name):\n",
    "    if len(df[column_name]) == len(df[column_name].unique()):\n",
    "        print(\"All entries in the '{}' column are unique.\".format(column_name))\n",
    "    else:\n",
    "        raise ValueError(\"Duplicate entries found in the '{}' column\".format(column_name))\n",
    "\n",
    "check_unique_entries(df, 'UniquePupilNumber')\n"
   ]
  },
  {
   "cell_type": "code",
   "execution_count": null,
   "metadata": {},
   "outputs": [],
   "source": [
    "profile=ProfileReport(df,title=\"EDA for CCIS Dataset\")\n",
    "profile"
   ]
  }
 ],
 "metadata": {
  "language_info": {
   "name": "python"
  },
  "orig_nbformat": 4
 },
 "nbformat": 4,
 "nbformat_minor": 2
}
